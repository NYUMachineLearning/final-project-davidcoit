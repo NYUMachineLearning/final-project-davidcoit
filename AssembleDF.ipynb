{
 "cells": [
  {
   "cell_type": "code",
   "execution_count": 1,
   "metadata": {},
   "outputs": [],
   "source": [
    "import os\n",
    "import shutil\n",
    "\n",
    "import numpy as np\n",
    "import matplotlib.pyplot as plt\n",
    "import pandas as pd\n",
    "import seaborn as sns\n"
   ]
  },
  {
   "cell_type": "code",
   "execution_count": 2,
   "metadata": {},
   "outputs": [
    {
     "name": "stdout",
     "output_type": "stream",
     "text": [
      "complete\n"
     ]
    }
   ],
   "source": [
    "ConnectionTable = pd.DataFrame(columns = [\"Neuron_Pair\",\n",
    "                                          \"Dataset\",\n",
    "                                          \"Mutual_Information_Conditional\",\n",
    "                                          \"GrangerF\",\n",
    "                                          \"PartialCorrDisc\",\n",
    "                                          \"PartialCorrCont\",\n",
    "                                          \"ConnectionPresent\",\n",
    "                                          \"ConnectionType\",\n",
    "                                          \"Distance\"]\n",
    "                            )\n",
    "\n",
    "\n",
    "\n",
    "\n",
    "src = \"/Users/David/Desktop/output/\"\n",
    "\n",
    "#for example in [\"01\"]:\n",
    "for example in [\"01\", \"02\", \"03\", \"04\", \"05\", \"06\"]:\n",
    "    DISTANCES = np.genfromtxt(\"{}DISTANCES_{}.csv\".format(src,example), delimiter = \",\")\n",
    "    CONNECTIONS = np.genfromtxt(\"{}CONNECTIONS_{}.csv\".format(src,example), delimiter = \",\")\n",
    "    PROJECTIONS = np.genfromtxt(\"{}PROJECTIONS_{}.csv\".format(src,example), delimiter = \",\")\n",
    "    granger = np.genfromtxt(\"{}granger_{}.csv\".format(src,example), delimiter = \",\")\n",
    "    MUTUAL_INFO_C = np.genfromtxt(\"{}mutualconditionalinfo_{}.csv\".format(src,example), delimiter = \",\")\n",
    "    partcor_disc = np.genfromtxt(\"{}PC_DISC_{}.csv\".format(src,example), delimiter = \",\")\n",
    "    partcor_cont = np.genfromtxt(\"{}PC_CONT_{}.csv\".format(src,example), delimiter = \",\")\n",
    "    \n",
    "    n = 100\n",
    "    for i in range(100):\n",
    "        for j in range(100):\n",
    "            if i!=j:\n",
    "                neurons = \"{}-{}-{}\".format(example, str(i).zfill(4), str(j).zfill(4))\n",
    "                mic = MUTUAL_INFO_C[i,j]\n",
    "                grangerF = granger[i,j]\n",
    "                if PROJECTIONS[i,j] == 1:\n",
    "                    conn_pres = \"present\"\n",
    "                    conn_type = \"excitatory\"\n",
    "                elif PROJECTIONS[i,j] == -1:\n",
    "                    conn_pres = \"present\"\n",
    "                    conn_type = \"inhibitory\"\n",
    "                else:\n",
    "                    conn_pres = \"absent\"\n",
    "                    conn_type = \"none\"\n",
    "                pcc = partcor_cont[i,j]\n",
    "                pcd = partcor_disc[i,j]\n",
    "                dist = DISTANCES[i,j]\n",
    "                row = pd.DataFrame({\"Neuron_Pair\": [\"{}-{}-{}\".format(example, str(i).zfill(3), str(j).zfill(3))],\n",
    "                                    \"Dataset\": [example],\n",
    "                                    \"Mutual_Information_Conditional\":[mic],\n",
    "                                    \"GrangerF\":[grangerF],\n",
    "                                    \"PartialCorrDisc\":[pcd],\n",
    "                                    \"PartialCorrCont\":[pcc],\n",
    "                                    \"ConnectionPresent\" : [conn_pres],\n",
    "                                    \"ConnectionType\" : [conn_type],\n",
    "                                    \"Distance\": [dist]})\n",
    "                ConnectionTable = ConnectionTable.append(row)\n",
    "                \n",
    "    #ConnectionTable.set_index('Neuron_Pair', inplace=True)\n",
    "print(\"complete\")"
   ]
  },
  {
   "cell_type": "code",
   "execution_count": 6,
   "metadata": {},
   "outputs": [],
   "source": [
    "ConTabStd = ConnectionTable.copy()"
   ]
  },
  {
   "cell_type": "code",
   "execution_count": 7,
   "metadata": {},
   "outputs": [],
   "source": [
    "cols = ['Mutual_Information_Conditional','GrangerF', \"PartialCorrCont\", \"PartialCorrDisc\"]\n",
    "ConTabStd[cols] = ConTabStd[cols].apply(lambda x: (x - x.mean()) / (x.std()))"
   ]
  },
  {
   "cell_type": "code",
   "execution_count": 8,
   "metadata": {},
   "outputs": [
    {
     "data": {
      "text/html": [
       "<div>\n",
       "<style scoped>\n",
       "    .dataframe tbody tr th:only-of-type {\n",
       "        vertical-align: middle;\n",
       "    }\n",
       "\n",
       "    .dataframe tbody tr th {\n",
       "        vertical-align: top;\n",
       "    }\n",
       "\n",
       "    .dataframe thead th {\n",
       "        text-align: right;\n",
       "    }\n",
       "</style>\n",
       "<table border=\"1\" class=\"dataframe\">\n",
       "  <thead>\n",
       "    <tr style=\"text-align: right;\">\n",
       "      <th></th>\n",
       "      <th>Neuron_Pair</th>\n",
       "      <th>Dataset</th>\n",
       "      <th>Mutual_Information_Conditional</th>\n",
       "      <th>GrangerF</th>\n",
       "      <th>PartialCorrDisc</th>\n",
       "      <th>PartialCorrCont</th>\n",
       "      <th>ConnectionPresent</th>\n",
       "      <th>ConnectionType</th>\n",
       "      <th>Distance</th>\n",
       "    </tr>\n",
       "  </thead>\n",
       "  <tbody>\n",
       "    <tr>\n",
       "      <th>0</th>\n",
       "      <td>01-000-001</td>\n",
       "      <td>01</td>\n",
       "      <td>-0.666548</td>\n",
       "      <td>-0.500759</td>\n",
       "      <td>0.969341</td>\n",
       "      <td>2.430755</td>\n",
       "      <td>absent</td>\n",
       "      <td>none</td>\n",
       "      <td>0.110386</td>\n",
       "    </tr>\n",
       "    <tr>\n",
       "      <th>0</th>\n",
       "      <td>01-000-002</td>\n",
       "      <td>01</td>\n",
       "      <td>-0.547945</td>\n",
       "      <td>-0.291519</td>\n",
       "      <td>-1.311035</td>\n",
       "      <td>-0.205949</td>\n",
       "      <td>absent</td>\n",
       "      <td>none</td>\n",
       "      <td>0.434014</td>\n",
       "    </tr>\n",
       "    <tr>\n",
       "      <th>0</th>\n",
       "      <td>01-000-003</td>\n",
       "      <td>01</td>\n",
       "      <td>-0.779080</td>\n",
       "      <td>-0.557135</td>\n",
       "      <td>-0.240551</td>\n",
       "      <td>-0.256225</td>\n",
       "      <td>absent</td>\n",
       "      <td>none</td>\n",
       "      <td>0.453296</td>\n",
       "    </tr>\n",
       "    <tr>\n",
       "      <th>0</th>\n",
       "      <td>01-000-004</td>\n",
       "      <td>01</td>\n",
       "      <td>-0.569620</td>\n",
       "      <td>-0.480993</td>\n",
       "      <td>-0.299473</td>\n",
       "      <td>-0.232301</td>\n",
       "      <td>absent</td>\n",
       "      <td>none</td>\n",
       "      <td>0.266295</td>\n",
       "    </tr>\n",
       "    <tr>\n",
       "      <th>0</th>\n",
       "      <td>01-000-005</td>\n",
       "      <td>01</td>\n",
       "      <td>-0.458945</td>\n",
       "      <td>-0.495165</td>\n",
       "      <td>0.333799</td>\n",
       "      <td>0.118983</td>\n",
       "      <td>absent</td>\n",
       "      <td>none</td>\n",
       "      <td>0.179324</td>\n",
       "    </tr>\n",
       "  </tbody>\n",
       "</table>\n",
       "</div>"
      ],
      "text/plain": [
       "  Neuron_Pair Dataset  Mutual_Information_Conditional  GrangerF  \\\n",
       "0  01-000-001      01                       -0.666548 -0.500759   \n",
       "0  01-000-002      01                       -0.547945 -0.291519   \n",
       "0  01-000-003      01                       -0.779080 -0.557135   \n",
       "0  01-000-004      01                       -0.569620 -0.480993   \n",
       "0  01-000-005      01                       -0.458945 -0.495165   \n",
       "\n",
       "   PartialCorrDisc  PartialCorrCont ConnectionPresent ConnectionType  Distance  \n",
       "0         0.969341         2.430755            absent           none  0.110386  \n",
       "0        -1.311035        -0.205949            absent           none  0.434014  \n",
       "0        -0.240551        -0.256225            absent           none  0.453296  \n",
       "0        -0.299473        -0.232301            absent           none  0.266295  \n",
       "0         0.333799         0.118983            absent           none  0.179324  "
      ]
     },
     "execution_count": 8,
     "metadata": {},
     "output_type": "execute_result"
    }
   ],
   "source": [
    "ConTabStd.head()"
   ]
  },
  {
   "cell_type": "code",
   "execution_count": 9,
   "metadata": {},
   "outputs": [],
   "source": [
    "ConnectionTable.to_csv(\"~/Desktop/output/ConnectionTable.csv\", sep=\",\")\n",
    "ConTabStd.to_csv(\"~/Desktop/output/ConTabStd.csv\", sep=\",\")"
   ]
  },
  {
   "cell_type": "code",
   "execution_count": null,
   "metadata": {},
   "outputs": [],
   "source": []
  }
 ],
 "metadata": {
  "kernelspec": {
   "display_name": "Python 3",
   "language": "python",
   "name": "python3"
  },
  "language_info": {
   "codemirror_mode": {
    "name": "ipython",
    "version": 3
   },
   "file_extension": ".py",
   "mimetype": "text/x-python",
   "name": "python",
   "nbconvert_exporter": "python",
   "pygments_lexer": "ipython3",
   "version": "3.7.0"
  }
 },
 "nbformat": 4,
 "nbformat_minor": 2
}
